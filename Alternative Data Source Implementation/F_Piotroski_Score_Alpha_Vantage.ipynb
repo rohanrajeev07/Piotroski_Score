{
 "cells": [
  {
   "cell_type": "code",
   "execution_count": 22,
   "id": "d8049c44",
   "metadata": {},
   "outputs": [],
   "source": [
    "import pandas as pd\n",
    "from alpha_vantage.fundamentaldata import FundamentalData\n",
    "# Private Key from Rohan's account\n",
    "key = '5QIM683UCAPQI1UC'\n",
    "fd = FundamentalData(key,output_format = 'pandas')"
   ]
  },
  {
   "cell_type": "code",
   "execution_count": 23,
   "id": "a054bc72",
   "metadata": {},
   "outputs": [],
   "source": [
    "def statements(ticker):\n",
    "    # income statement of the Company\n",
    "    \n",
    "    # alpha vantage function to pull income statement\n",
    "    raw_is = fd.get_income_statement_annual(ticker)\n",
    "    IS = raw_is[0].T[2:]\n",
    "    IS.columns = list(raw_is[0].T.iloc[0])\n",
    "\n",
    "    # balance sheet of the Company\n",
    "    raw_bs = fd.get_balance_sheet_annual(ticker)\n",
    "    BS = raw_bs[0].T[2:]\n",
    "    BS.columns = list(raw_bs[0].T.iloc[0])\n",
    "\n",
    "    # Cash flow statement of the Company\n",
    "    raw_cf = fd.get_cash_flow_annual(ticker)\n",
    "    CF = raw_cf[0].T[2:]\n",
    "    CF.columns = list(raw_cf[0].T.iloc[0])\n",
    "    \n",
    "    return (IS,BS,CF)"
   ]
  },
  {
   "cell_type": "code",
   "execution_count": 24,
   "id": "6c30fec2",
   "metadata": {},
   "outputs": [],
   "source": [
    "# Defining functions to calculate individual Piotroski Score Metrics\n",
    "\n",
    "def net_income():\n",
    "    df=IS\n",
    "    return float(df.loc['netIncome'][0])\n",
    "\n",
    "def roa():\n",
    "    df=BS\n",
    "    p,q=float(df.loc['totalAssets'][0]),float(df.loc['totalAssets'][1])\n",
    "    av_assets=(p+q)/2\n",
    "    return net_income()/av_assets\n",
    "\n",
    "def ocf():\n",
    "    df=CF\n",
    "    return float(df.loc['operatingCashflow'][0])\n",
    "\n",
    "def ltdebt():\n",
    "    df=BS\n",
    "    p,q=float(df.loc['longTermDebt'][0]),float(df.loc['longTermDebt'][1])\n",
    "    return q-p\n",
    "\n",
    "def current_ratio():\n",
    "    df=BS\n",
    "    p,q=float(df.loc['totalCurrentAssets'][0]),float(df.loc['totalCurrentAssets'][1])\n",
    "    r,s=float(df.loc['totalCurrentLiabilities'][0]),float(df.loc['totalCurrentLiabilities'][1])\n",
    "    current_ratio1,current_ratio2=p/r,q/s\n",
    "    return current_ratio1-current_ratio2\n",
    "\n",
    "def new_shares():\n",
    "    return float(BS.loc['commonStock'][0]) - float(BS.loc['commonStock'][1])\n",
    "\n",
    "def gross_margin():\n",
    "    df=IS\n",
    "    gross_margin_this = float(IS.loc['grossProfit'][0])/float(IS.loc['totalRevenue'][0])\n",
    "    gross_margin_last = float(IS.loc['grossProfit'][1])/float(IS.loc['totalRevenue'][1])\n",
    "    return gross_margin_this - gross_margin_last\n",
    "\n",
    "def Asset_Turnover_Ratio():\n",
    "    df1=IS\n",
    "    df2=BS\n",
    "    p,q,s=float(df2.loc['totalAssets'][0]),float(df2.loc['totalAssets'][1]),float(df2.loc['totalAssets'][2])\n",
    "    av_assets1=(p+q)/2\n",
    "    av_assets2=(q+s)/2\n",
    "    atr1=float(df1.loc['totalRevenue'][0])/av_assets1\n",
    "    atr2=float(df1.loc['totalRevenue'][1])/av_assets2\n",
    "    return atr1-atr2"
   ]
  },
  {
   "cell_type": "code",
   "execution_count": 25,
   "id": "02416a74",
   "metadata": {},
   "outputs": [],
   "source": [
    "# Piotroski Function definition\n",
    "def Piotroski_Score():\n",
    "    Pscore=0\n",
    "    if net_income()>0:\n",
    "        Pscore+=1\n",
    "    if roa()>0:\n",
    "        Pscore+=1\n",
    "    if ocf()>0:\n",
    "        Pscore+=1\n",
    "    if ocf()>net_income():\n",
    "        Pscore+=1\n",
    "    if ltdebt()>0:\n",
    "        Pscore+=1\n",
    "    if current_ratio()>0:\n",
    "        Pscore+=1\n",
    "    if new_shares()>0:\n",
    "        Pscore+=1\n",
    "    if gross_margin()>0:\n",
    "        Pscore+=1\n",
    "    if Asset_Turnover_Ratio()>0:\n",
    "        Pscore+=1\n",
    "    return Pscore"
   ]
  },
  {
   "cell_type": "code",
   "execution_count": 29,
   "id": "968b0c0c",
   "metadata": {},
   "outputs": [],
   "source": [
    "# Input the list of stocks you would want to see here. \n",
    "# A Free account has API call limitations. Use a premium account to get the Piotroski Scores of multiple stocks\n",
    "tickers=['AAPL']\n",
    "data2={}\n",
    "for ticker in tickers:\n",
    "    IS,BS,CF = statements(ticker)\n",
    "    data2[ticker]=Piotroski_Score()\n",
    "    data=pd.DataFrame(data2,index=[0])    \n"
   ]
  },
  {
   "cell_type": "code",
   "execution_count": 30,
   "id": "430f2d47",
   "metadata": {},
   "outputs": [
    {
     "data": {
      "text/html": [
       "<div>\n",
       "<style scoped>\n",
       "    .dataframe tbody tr th:only-of-type {\n",
       "        vertical-align: middle;\n",
       "    }\n",
       "\n",
       "    .dataframe tbody tr th {\n",
       "        vertical-align: top;\n",
       "    }\n",
       "\n",
       "    .dataframe thead th {\n",
       "        text-align: right;\n",
       "    }\n",
       "</style>\n",
       "<table border=\"1\" class=\"dataframe\">\n",
       "  <thead>\n",
       "    <tr style=\"text-align: right;\">\n",
       "      <th></th>\n",
       "      <th>AAPL</th>\n",
       "    </tr>\n",
       "  </thead>\n",
       "  <tbody>\n",
       "    <tr>\n",
       "      <th>0</th>\n",
       "      <td>7</td>\n",
       "    </tr>\n",
       "  </tbody>\n",
       "</table>\n",
       "</div>"
      ],
      "text/plain": [
       "   AAPL\n",
       "0     7"
      ]
     },
     "execution_count": 30,
     "metadata": {},
     "output_type": "execute_result"
    }
   ],
   "source": [
    "data"
   ]
  },
  {
   "cell_type": "code",
   "execution_count": null,
   "id": "92aca1d6",
   "metadata": {},
   "outputs": [],
   "source": []
  }
 ],
 "metadata": {
  "kernelspec": {
   "display_name": "Python 3",
   "language": "python",
   "name": "python3"
  },
  "language_info": {
   "codemirror_mode": {
    "name": "ipython",
    "version": 3
   },
   "file_extension": ".py",
   "mimetype": "text/x-python",
   "name": "python",
   "nbconvert_exporter": "python",
   "pygments_lexer": "ipython3",
   "version": "3.8.8"
  }
 },
 "nbformat": 4,
 "nbformat_minor": 5
}
